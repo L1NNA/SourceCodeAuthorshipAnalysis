{
 "cells": [
  {
   "cell_type": "code",
   "execution_count": null,
   "metadata": {
    "id": "Ez_5gfRQ0bn_"
   },
   "outputs": [],
   "source": [
    "# mount Google Drive\n",
    "from google.colab import drive\n",
    "import os\n",
    "drive.mount('/content/drive')\n",
    "\n",
    "# change the directory below to your drive's data folder\n",
    "os.chdir('/content/drive/My Drive/Projects/1_Verification_Sourcecode_Siamese/data_gen')"
   ]
  },
  {
   "cell_type": "code",
   "execution_count": null,
   "metadata": {
    "colab": {
     "base_uri": "https://localhost:8080/",
     "height": 52
    },
    "executionInfo": {
     "elapsed": 6086,
     "status": "ok",
     "timestamp": 1565430635082,
     "user": {
      "displayName": "Weihan Ou",
      "photoUrl": "",
      "userId": "04717068953379374964"
     },
     "user_tz": -480
    },
    "id": "RY0opk6D04Tl",
    "outputId": "1b1ee0b6-b1a5-412a-c566-d16ca94517b7"
   },
   "outputs": [
    {
     "name": "stdout",
     "output_type": "stream",
     "text": [
      "sample_data\n",
      "/content\n"
     ]
    }
   ],
   "source": [
    "# download and extract data (already done, please skip)\n",
    "'''\n",
    "!apt install p7zip-full # bullet-proof\n",
    "!wget https://raw.githubusercontent.com/Jur1cek/gcj-dataset/master/gcj2008.csv.zip && 7z x gcj2008.csv.zip && rm gcj2008.csv.zip\n",
    "!wget https://raw.githubusercontent.com/Jur1cek/gcj-dataset/master/gcj2009.csv.zip && 7z x gcj2009.csv.zip && rm gcj2009.csv.zip\n",
    "!wget https://raw.githubusercontent.com/Jur1cek/gcj-dataset/master/gcj2010.csv.zip && 7z x gcj2010.csv.zip && rm gcj2010.csv.zip\n",
    "!wget https://raw.githubusercontent.com/Jur1cek/gcj-dataset/master/gcj2011.csv.zip && 7z x gcj2011.csv.zip && rm gcj2011.csv.zip\n",
    "!wget https://raw.githubusercontent.com/Jur1cek/gcj-dataset/master/gcj2012.csv.zip && 7z x gcj2012.csv.zip && rm gcj2012.csv.zip\n",
    "!wget https://raw.githubusercontent.com/Jur1cek/gcj-dataset/master/gcj2013.csv.zip && 7z x gcj2013.csv.zip && rm gcj2013.csv.zip\n",
    "!wget https://raw.githubusercontent.com/Jur1cek/gcj-dataset/master/gcj2014.csv.zip && 7z x gcj2014.csv.zip && rm gcj2014.csv.zip\n",
    "!wget https://raw.githubusercontent.com/Jur1cek/gcj-dataset/master/gcj2015.csv.zip && 7z x gcj2015.csv.zip && rm gcj2015.csv.zip\n",
    "!wget https://raw.githubusercontent.com/Jur1cek/gcj-dataset/master/gcj2016.csv.zip && 7z x gcj2016.csv.zip && rm gcj2016.csv.zip\n",
    "!wget https://raw.githubusercontent.com/Jur1cek/gcj-dataset/master/gcj2017.csv.zip && 7z x gcj2017.csv.zip && rm gcj2017.csv.zip\n",
    "'''"
   ]
  },
  {
   "cell_type": "code",
   "execution_count": null,
   "metadata": {
    "id": "wf0QlWmF260g"
   },
   "outputs": [],
   "source": [
    "# load csv, examine\n",
    "import pandas as pd\n",
    "\n",
    "ds = []\n",
    "for yr in range(2008, 2018):\n",
    "  ds.append(pd.read_csv('gcj{}.csv'.format(yr)))\n",
    "ds = pd.concat(ds, ignore_index=True)\n",
    "\n",
    "# add file type as attribute:\n",
    "ds['file_type'] = ds.apply(lambda row: os.path.splitext(row['file'])[1] , axis=1)\n",
    "\n",
    "print(ds.shape[0])\n",
    "print(ds.columns.values)\n",
    "print(ds.loc[0])"
   ]
  },
  {
   "cell_type": "code",
   "execution_count": null,
   "metadata": {
    "colab": {
     "base_uri": "https://localhost:8080/",
     "height": 52
    },
    "executionInfo": {
     "elapsed": 50364,
     "status": "ok",
     "timestamp": 1569306325957,
     "user": {
      "displayName": "欧玮菡",
      "photoUrl": "",
      "userId": "11986110129125284462"
     },
     "user_tz": -480
    },
    "id": "t3HAzHhr9iWN",
    "outputId": "d8c8a141-8da2-4728-cd4a-d99725fd71d9"
   },
   "outputs": [
    {
     "name": "stdout",
     "output_type": "stream",
     "text": [
      "305841\n",
      "942665\n"
     ]
    }
   ],
   "source": [
    "# remove duplicated data\n",
    "ds_dup = ds[ds.duplicated(['username', 'flines'])]\n",
    "print(ds_dup.shape[0])\n",
    "\n",
    "ds = ds[~ds.duplicated(['username', 'flines'])]\n",
    "print(ds.shape[0])"
   ]
  },
  {
   "cell_type": "code",
   "execution_count": null,
   "metadata": {
    "colab": {
     "base_uri": "https://localhost:8080/",
     "height": 407
    },
    "executionInfo": {
     "elapsed": 177531,
     "status": "ok",
     "timestamp": 1565853194152,
     "user": {
      "displayName": "Weihan Ou",
      "photoUrl": "",
      "userId": "04717068953379374964"
     },
     "user_tz": -480
    },
    "id": "PWWEuVMUMe0G",
    "outputId": "2cb97d9b-bbde-4c9c-d326-08ab417ff333"
   },
   "outputs": [
    {
     "name": "stdout",
     "output_type": "stream",
     "text": [
      "Language types per author, total author num:98963\n"
     ]
    },
    {
     "data": {
      "text/html": [
       "<div>\n",
       "<style scoped>\n",
       "    .dataframe tbody tr th:only-of-type {\n",
       "        vertical-align: middle;\n",
       "    }\n",
       "\n",
       "    .dataframe tbody tr th {\n",
       "        vertical-align: top;\n",
       "    }\n",
       "\n",
       "    .dataframe thead th {\n",
       "        text-align: right;\n",
       "    }\n",
       "</style>\n",
       "<table border=\"1\" class=\"dataframe\">\n",
       "  <thead>\n",
       "    <tr style=\"text-align: right;\">\n",
       "      <th></th>\n",
       "      <th>username</th>\n",
       "    </tr>\n",
       "    <tr>\n",
       "      <th>ntypes</th>\n",
       "      <th></th>\n",
       "    </tr>\n",
       "  </thead>\n",
       "  <tbody>\n",
       "    <tr>\n",
       "      <th>1</th>\n",
       "      <td>77154</td>\n",
       "    </tr>\n",
       "    <tr>\n",
       "      <th>2</th>\n",
       "      <td>17016</td>\n",
       "    </tr>\n",
       "    <tr>\n",
       "      <th>3</th>\n",
       "      <td>3604</td>\n",
       "    </tr>\n",
       "    <tr>\n",
       "      <th>4</th>\n",
       "      <td>806</td>\n",
       "    </tr>\n",
       "    <tr>\n",
       "      <th>5</th>\n",
       "      <td>215</td>\n",
       "    </tr>\n",
       "    <tr>\n",
       "      <th>6</th>\n",
       "      <td>52</td>\n",
       "    </tr>\n",
       "    <tr>\n",
       "      <th>7</th>\n",
       "      <td>35</td>\n",
       "    </tr>\n",
       "    <tr>\n",
       "      <th>8</th>\n",
       "      <td>14</td>\n",
       "    </tr>\n",
       "    <tr>\n",
       "      <th>9</th>\n",
       "      <td>6</td>\n",
       "    </tr>\n",
       "    <tr>\n",
       "      <th>10</th>\n",
       "      <td>11</td>\n",
       "    </tr>\n",
       "  </tbody>\n",
       "</table>\n",
       "</div>"
      ],
      "text/plain": [
       "        username\n",
       "ntypes          \n",
       "1          77154\n",
       "2          17016\n",
       "3           3604\n",
       "4            806\n",
       "5            215\n",
       "6             52\n",
       "7             35\n",
       "8             14\n",
       "9              6\n",
       "10            11"
      ]
     },
     "execution_count": 3,
     "metadata": {
      "tags": []
     },
     "output_type": "execute_result"
    }
   ],
   "source": [
    "# Language per author\n",
    "author_types = ds[['username','file_type']].groupby('username')\n",
    "author_ntypes_n = pd.DataFrame(author_types['file_type'].nunique()).reset_index()\n",
    "author_ntypes_n.columns = ['username', 'ntypes']\n",
    "\n",
    "print(\"Language types per author, total author num:\"+str(author_ntypes_n.shape[0]))\n",
    "author_ntypes_n.groupby([\"ntypes\"]).agg({\"username\": \"count\"}).head(10)"
   ]
  },
  {
   "cell_type": "code",
   "execution_count": null,
   "metadata": {
    "colab": {
     "base_uri": "https://localhost:8080/",
     "height": 363
    },
    "executionInfo": {
     "elapsed": 1574,
     "status": "ok",
     "timestamp": 1565004903606,
     "user": {
      "displayName": "欧玮菡",
      "photoUrl": "",
      "userId": "11986110129125284462"
     },
     "user_tz": -480
    },
    "id": "1LWPYh-u5vQW",
    "outputId": "4b3955cc-d325-400c-c2a1-5ccf121352e1"
   },
   "outputs": [
    {
     "name": "stdout",
     "output_type": "stream",
     "text": [
      "942665\n",
      "File per author\n"
     ]
    },
    {
     "data": {
      "text/html": [
       "<div>\n",
       "<style scoped>\n",
       "    .dataframe tbody tr th:only-of-type {\n",
       "        vertical-align: middle;\n",
       "    }\n",
       "\n",
       "    .dataframe tbody tr th {\n",
       "        vertical-align: top;\n",
       "    }\n",
       "\n",
       "    .dataframe thead tr th {\n",
       "        text-align: left;\n",
       "    }\n",
       "</style>\n",
       "<table border=\"1\" class=\"dataframe\">\n",
       "  <thead>\n",
       "    <tr>\n",
       "      <th></th>\n",
       "      <th>full_path</th>\n",
       "    </tr>\n",
       "    <tr>\n",
       "      <th></th>\n",
       "      <th>count</th>\n",
       "    </tr>\n",
       "  </thead>\n",
       "  <tbody>\n",
       "    <tr>\n",
       "      <th>count</th>\n",
       "      <td>98963.000000</td>\n",
       "    </tr>\n",
       "    <tr>\n",
       "      <th>mean</th>\n",
       "      <td>9.525075</td>\n",
       "    </tr>\n",
       "    <tr>\n",
       "      <th>std</th>\n",
       "      <td>13.900452</td>\n",
       "    </tr>\n",
       "    <tr>\n",
       "      <th>min</th>\n",
       "      <td>1.000000</td>\n",
       "    </tr>\n",
       "    <tr>\n",
       "      <th>25%</th>\n",
       "      <td>3.000000</td>\n",
       "    </tr>\n",
       "    <tr>\n",
       "      <th>50%</th>\n",
       "      <td>5.000000</td>\n",
       "    </tr>\n",
       "    <tr>\n",
       "      <th>75%</th>\n",
       "      <td>10.000000</td>\n",
       "    </tr>\n",
       "    <tr>\n",
       "      <th>max</th>\n",
       "      <td>278.000000</td>\n",
       "    </tr>\n",
       "  </tbody>\n",
       "</table>\n",
       "</div>"
      ],
      "text/plain": [
       "          full_path\n",
       "              count\n",
       "count  98963.000000\n",
       "mean       9.525075\n",
       "std       13.900452\n",
       "min        1.000000\n",
       "25%        3.000000\n",
       "50%        5.000000\n",
       "75%       10.000000\n",
       "max      278.000000"
      ]
     },
     "execution_count": 28,
     "metadata": {
      "tags": []
     },
     "output_type": "execute_result"
    }
   ],
   "source": [
    "# File per author\n",
    "print(ds.shape[0])\n",
    "print('File per author')\n",
    "authors = ds[['username', 'full_path']].groupby('username').agg(['count'])\n",
    "authors.describe()"
   ]
  },
  {
   "cell_type": "code",
   "execution_count": null,
   "metadata": {
    "colab": {
     "base_uri": "https://localhost:8080/",
     "height": 286
    },
    "executionInfo": {
     "elapsed": 8543,
     "status": "ok",
     "timestamp": 1565005550385,
     "user": {
      "displayName": "欧玮菡",
      "photoUrl": "",
      "userId": "11986110129125284462"
     },
     "user_tz": -480
    },
    "id": "cgBerzOE8srP",
    "outputId": "141b0f69-1bba-46d7-b70b-65b15855c613"
   },
   "outputs": [
    {
     "name": "stdout",
     "output_type": "stream",
     "text": [
      "Cummulative distribution function. Text annotation (percentage/number of the authors having more than that number of files)\n"
     ]
    },
    {
     "data": {
      "image/png": "[encoded data removed]",
      "text/plain": [
       "<Figure size 432x288 with 1 Axes>"
      ]
     },
     "metadata": {
      "tags": []
     },
     "output_type": "display_data"
    }
   ],
   "source": [
    "# File per author (cdf)\n",
    "import statsmodels\n",
    "import seaborn as sns\n",
    "\n",
    "vals = authors.iloc[:,0].tolist()\n",
    "p1=sns.kdeplot(vals, cumulative=True, shade=True, color=\"r\")\n",
    "\n",
    "from statsmodels.distributions.empirical_distribution import ECDF\n",
    "ecdf = ECDF(vals)\n",
    "\n",
    "def annotate(val):\n",
    "    percentage = ecdf(val)\n",
    "    right = (1-percentage)*10000//100\n",
    "    p1.text(val, percentage, \">={}, p:{}%, c:{}\".format(val, right, (1-percentage)*len(vals)//1), horizontalalignment='left', size='medium', color='black', weight='semibold')\n",
    "\n",
    "print('Cummulative distribution function. Text annotation (percentage/number of the authors having more than that number of files)')\n",
    "annotate(100)\n",
    "annotate(20)\n",
    "annotate(10)\n",
    "annotate(3)"
   ]
  },
  {
   "cell_type": "code",
   "execution_count": null,
   "metadata": {
    "colab": {
     "base_uri": "https://localhost:8080/",
     "height": 407
    },
    "executionInfo": {
     "elapsed": 2146,
     "status": "ok",
     "timestamp": 1564840433975,
     "user": {
      "displayName": "欧玮菡",
      "photoUrl": "",
      "userId": "11986110129125284462"
     },
     "user_tz": -480
    },
    "id": "P_TRD4RN8_qW",
    "outputId": "61a025bb-697f-42cd-8417-16400665808f"
   },
   "outputs": [
    {
     "name": "stdout",
     "output_type": "stream",
     "text": [
      "Files per year\n"
     ]
    },
    {
     "data": {
      "text/html": [
       "<div>\n",
       "<style scoped>\n",
       "    .dataframe tbody tr th:only-of-type {\n",
       "        vertical-align: middle;\n",
       "    }\n",
       "\n",
       "    .dataframe tbody tr th {\n",
       "        vertical-align: top;\n",
       "    }\n",
       "\n",
       "    .dataframe thead th {\n",
       "        text-align: right;\n",
       "    }\n",
       "</style>\n",
       "<table border=\"1\" class=\"dataframe\">\n",
       "  <thead>\n",
       "    <tr style=\"text-align: right;\">\n",
       "      <th></th>\n",
       "      <th>full_path</th>\n",
       "    </tr>\n",
       "    <tr>\n",
       "      <th>year</th>\n",
       "      <th></th>\n",
       "    </tr>\n",
       "  </thead>\n",
       "  <tbody>\n",
       "    <tr>\n",
       "      <th>2008</th>\n",
       "      <td>37822</td>\n",
       "    </tr>\n",
       "    <tr>\n",
       "      <th>2009</th>\n",
       "      <td>47500</td>\n",
       "    </tr>\n",
       "    <tr>\n",
       "      <th>2010</th>\n",
       "      <td>55487</td>\n",
       "    </tr>\n",
       "    <tr>\n",
       "      <th>2011</th>\n",
       "      <td>78784</td>\n",
       "    </tr>\n",
       "    <tr>\n",
       "      <th>2012</th>\n",
       "      <td>80787</td>\n",
       "    </tr>\n",
       "    <tr>\n",
       "      <th>2013</th>\n",
       "      <td>110626</td>\n",
       "    </tr>\n",
       "    <tr>\n",
       "      <th>2014</th>\n",
       "      <td>125058</td>\n",
       "    </tr>\n",
       "    <tr>\n",
       "      <th>2015</th>\n",
       "      <td>110315</td>\n",
       "    </tr>\n",
       "    <tr>\n",
       "      <th>2016</th>\n",
       "      <td>164088</td>\n",
       "    </tr>\n",
       "    <tr>\n",
       "      <th>2017</th>\n",
       "      <td>132198</td>\n",
       "    </tr>\n",
       "  </tbody>\n",
       "</table>\n",
       "</div>"
      ],
      "text/plain": [
       "      full_path\n",
       "year           \n",
       "2008      37822\n",
       "2009      47500\n",
       "2010      55487\n",
       "2011      78784\n",
       "2012      80787\n",
       "2013     110626\n",
       "2014     125058\n",
       "2015     110315\n",
       "2016     164088\n",
       "2017     132198"
      ]
     },
     "execution_count": 14,
     "metadata": {
      "tags": []
     },
     "output_type": "execute_result"
    }
   ],
   "source": [
    "print('Files per year')\n",
    "ds.groupby(\"year\").agg({\"full_path\": pd.Series.nunique})"
   ]
  },
  {
   "cell_type": "code",
   "execution_count": null,
   "metadata": {
    "colab": {
     "base_uri": "https://localhost:8080/",
     "height": 407
    },
    "executionInfo": {
     "elapsed": 1625,
     "status": "ok",
     "timestamp": 1564840443906,
     "user": {
      "displayName": "欧玮菡",
      "photoUrl": "",
      "userId": "11986110129125284462"
     },
     "user_tz": -480
    },
    "id": "O9JUr7-uGvn5",
    "outputId": "29b4b077-ecbb-40fa-a65b-67e042117dce"
   },
   "outputs": [
    {
     "name": "stdout",
     "output_type": "stream",
     "text": [
      "Authors per year\n"
     ]
    },
    {
     "data": {
      "text/html": [
       "<div>\n",
       "<style scoped>\n",
       "    .dataframe tbody tr th:only-of-type {\n",
       "        vertical-align: middle;\n",
       "    }\n",
       "\n",
       "    .dataframe tbody tr th {\n",
       "        vertical-align: top;\n",
       "    }\n",
       "\n",
       "    .dataframe thead th {\n",
       "        text-align: right;\n",
       "    }\n",
       "</style>\n",
       "<table border=\"1\" class=\"dataframe\">\n",
       "  <thead>\n",
       "    <tr style=\"text-align: right;\">\n",
       "      <th></th>\n",
       "      <th>username</th>\n",
       "    </tr>\n",
       "    <tr>\n",
       "      <th>year</th>\n",
       "      <th></th>\n",
       "    </tr>\n",
       "  </thead>\n",
       "  <tbody>\n",
       "    <tr>\n",
       "      <th>2008</th>\n",
       "      <td>6923</td>\n",
       "    </tr>\n",
       "    <tr>\n",
       "      <th>2009</th>\n",
       "      <td>8151</td>\n",
       "    </tr>\n",
       "    <tr>\n",
       "      <th>2010</th>\n",
       "      <td>10033</td>\n",
       "    </tr>\n",
       "    <tr>\n",
       "      <th>2011</th>\n",
       "      <td>11678</td>\n",
       "    </tr>\n",
       "    <tr>\n",
       "      <th>2012</th>\n",
       "      <td>17581</td>\n",
       "    </tr>\n",
       "    <tr>\n",
       "      <th>2013</th>\n",
       "      <td>20998</td>\n",
       "    </tr>\n",
       "    <tr>\n",
       "      <th>2014</th>\n",
       "      <td>25174</td>\n",
       "    </tr>\n",
       "    <tr>\n",
       "      <th>2015</th>\n",
       "      <td>23084</td>\n",
       "    </tr>\n",
       "    <tr>\n",
       "      <th>2016</th>\n",
       "      <td>26955</td>\n",
       "    </tr>\n",
       "    <tr>\n",
       "      <th>2017</th>\n",
       "      <td>25100</td>\n",
       "    </tr>\n",
       "  </tbody>\n",
       "</table>\n",
       "</div>"
      ],
      "text/plain": [
       "      username\n",
       "year          \n",
       "2008      6923\n",
       "2009      8151\n",
       "2010     10033\n",
       "2011     11678\n",
       "2012     17581\n",
       "2013     20998\n",
       "2014     25174\n",
       "2015     23084\n",
       "2016     26955\n",
       "2017     25100"
      ]
     },
     "execution_count": 15,
     "metadata": {
      "tags": []
     },
     "output_type": "execute_result"
    }
   ],
   "source": [
    "print('Authors per year')\n",
    "ds.groupby(\"year\").agg({\"username\": pd.Series.nunique})"
   ]
  },
  {
   "cell_type": "code",
   "execution_count": null,
   "metadata": {
    "colab": {
     "base_uri": "https://localhost:8080/",
     "height": 407
    },
    "executionInfo": {
     "elapsed": 1243,
     "status": "ok",
     "timestamp": 1564840455791,
     "user": {
      "displayName": "欧玮菡",
      "photoUrl": "",
      "userId": "11986110129125284462"
     },
     "user_tz": -480
    },
    "id": "f9U19DElJ479",
    "outputId": "ee3d5bbb-e62b-4493-9d3b-a5d561866122"
   },
   "outputs": [
    {
     "name": "stdout",
     "output_type": "stream",
     "text": [
      "Authors per file type\n"
     ]
    },
    {
     "data": {
      "text/html": [
       "<div>\n",
       "<style scoped>\n",
       "    .dataframe tbody tr th:only-of-type {\n",
       "        vertical-align: middle;\n",
       "    }\n",
       "\n",
       "    .dataframe tbody tr th {\n",
       "        vertical-align: top;\n",
       "    }\n",
       "\n",
       "    .dataframe thead th {\n",
       "        text-align: right;\n",
       "    }\n",
       "</style>\n",
       "<table border=\"1\" class=\"dataframe\">\n",
       "  <thead>\n",
       "    <tr style=\"text-align: right;\">\n",
       "      <th></th>\n",
       "      <th>username</th>\n",
       "    </tr>\n",
       "    <tr>\n",
       "      <th>file_type</th>\n",
       "      <th></th>\n",
       "    </tr>\n",
       "  </thead>\n",
       "  <tbody>\n",
       "    <tr>\n",
       "      <th>.cpp</th>\n",
       "      <td>45356</td>\n",
       "    </tr>\n",
       "    <tr>\n",
       "      <th>.java</th>\n",
       "      <td>26737</td>\n",
       "    </tr>\n",
       "    <tr>\n",
       "      <th>.py</th>\n",
       "      <td>21842</td>\n",
       "    </tr>\n",
       "    <tr>\n",
       "      <th>.c</th>\n",
       "      <td>8122</td>\n",
       "    </tr>\n",
       "    <tr>\n",
       "      <th>.cs</th>\n",
       "      <td>5157</td>\n",
       "    </tr>\n",
       "    <tr>\n",
       "      <th>.txt</th>\n",
       "      <td>3079</td>\n",
       "    </tr>\n",
       "    <tr>\n",
       "      <th>.rb</th>\n",
       "      <td>2200</td>\n",
       "    </tr>\n",
       "    <tr>\n",
       "      <th>.cc</th>\n",
       "      <td>1854</td>\n",
       "    </tr>\n",
       "    <tr>\n",
       "      <th>.php</th>\n",
       "      <td>1519</td>\n",
       "    </tr>\n",
       "    <tr>\n",
       "      <th>.pl</th>\n",
       "      <td>998</td>\n",
       "    </tr>\n",
       "  </tbody>\n",
       "</table>\n",
       "</div>"
      ],
      "text/plain": [
       "           username\n",
       "file_type          \n",
       ".cpp          45356\n",
       ".java         26737\n",
       ".py           21842\n",
       ".c             8122\n",
       ".cs            5157\n",
       ".txt           3079\n",
       ".rb            2200\n",
       ".cc            1854\n",
       ".php           1519\n",
       ".pl             998"
      ]
     },
     "execution_count": 16,
     "metadata": {
      "tags": []
     },
     "output_type": "execute_result"
    }
   ],
   "source": [
    "print('Authors per file type')\n",
    "ds.groupby(\"file_type\").agg({\"username\": pd.Series.nunique}).sort_values(['username'], ascending=False).head(10)"
   ]
  },
  {
   "cell_type": "code",
   "execution_count": null,
   "metadata": {
    "id": "zRggOTqZpeOU"
   },
   "outputs": [],
   "source": [
    "# File per author (cdf)\n",
    "import statsmodels\n",
    "vals = python_auth.iloc[:,0].tolist()\n",
    "p1=sns.kdeplot(vals, cumulative=True, shade=True, color=\"r\")\n",
    "\n",
    "from statsmodels.distributions.empirical_distribution import ECDF\n",
    "ecdf = ECDF(vals)\n",
    "\n",
    "def annotate(val):\n",
    "    percentage = ecdf(val)\n",
    "    right = (percentage)*10000//100\n",
    "    p1.text(val, percentage, \"<={}, p:{}%, c:{}\".format(val, right, (percentage)*len(vals)//1), horizontalalignment='left', size='medium', color='black', weight='semibold')\n",
    "\n",
    "print('Cummulative distribution function. Text annotation (percentage/number of the authors having more than that number of files)')\n",
    "annotate(100)\n",
    "annotate(20)\n",
    "annotate(8)\n",
    "annotate(4)\n",
    "annotate(1)"
   ]
  },
  {
   "cell_type": "markdown",
   "metadata": {
    "id": "cazTMB0n4pdS"
   },
   "source": [
    "1. ==================== generate c2v data ========================"
   ]
  },
  {
   "cell_type": "code",
   "execution_count": null,
   "metadata": {
    "colab": {
     "base_uri": "https://localhost:8080/",
     "height": 69
    },
    "executionInfo": {
     "elapsed": 14136,
     "status": "ok",
     "timestamp": 1569308331015,
     "user": {
      "displayName": "欧玮菡",
      "photoUrl": "",
      "userId": "11986110129125284462"
     },
     "user_tz": -480
    },
    "id": "WHMxqu2QGyMZ",
    "outputId": "c3b94673-cd54-4a3c-efa2-540f8d5b273f"
   },
   "outputs": [
    {
     "name": "stdout",
     "output_type": "stream",
     "text": [
      "java:92054, cpp:212659, c:18220, python:60499\n",
      "14817\n",
      "4876\n"
     ]
    }
   ],
   "source": [
    "# Exp1: prepare 9 file datasets -1 on 2011~2014\n",
    "java = ds.loc[(ds['file_type']=='.java')&(ds['year'].isin([2010, 2011, 2012, 2013, 2014]))]\n",
    "cpp = ds.loc[(ds['file_type']=='.cpp')&(ds['year'].isin([2010, 2011, 2012, 2013, 2014]))]\n",
    "c = ds.loc[(ds['file_type']=='.c')&(ds['year'].isin([2010, 2011, 2012, 2013, 2014]))]\n",
    "python= ds.loc[(ds['file_type']=='.py')&(ds['year'].isin([2010, 2011, 2012, 2013, 2014]))]\n",
    "print('java:'+str(java.shape[0])+', cpp:'+str(cpp.shape[0])+', c:'+str(c.shape[0])+', python:'+str(python.shape[0]))\n",
    "\n",
    "java_auth = java[['username', 'full_path']].groupby('username').agg({'full_path':pd.Series.nunique})\n",
    "cpp_auth = cpp[['username', 'full_path']].groupby('username').agg({'full_path':pd.Series.nunique})\n",
    "c_auth = c[['username', 'full_path']].groupby('username').agg({'full_path':pd.Series.nunique})\n",
    "python_auth = python[['username', 'full_path']].groupby('username').agg({'full_path':pd.Series.nunique})\n",
    "print(len(java_auth))\n",
    "print(len(c_auth))"
   ]
  },
  {
   "cell_type": "code",
   "execution_count": null,
   "metadata": {
    "colab": {
     "base_uri": "https://localhost:8080/",
     "height": 52
    },
    "executionInfo": {
     "elapsed": 12619,
     "status": "ok",
     "timestamp": 1569308331017,
     "user": {
      "displayName": "欧玮菡",
      "photoUrl": "",
      "userId": "11986110129125284462"
     },
     "user_tz": -480
    },
    "id": "D_Zj9AQrywEp",
    "outputId": "f59e6354-7301-4811-a532-8e06c2860aa4"
   },
   "outputs": [
    {
     "name": "stdout",
     "output_type": "stream",
     "text": [
      "java:26757, cpp:67293, c:3051, python:17829\n",
      "java:2973, cpp:7477, c:339, python:1981\n"
     ]
    }
   ],
   "source": [
    "# prepare 9 file datasets -2\n",
    "import numpy as np\n",
    "#print('java:'+str(java.shape[0])+', cpp:'+str(cpp.shape[0])+', c:'+str(c.shape[0])+', python:'+str(python.shape[0]))\n",
    "java_9 = java.loc[java['username'].isin(np.asarray(java_auth.loc[java_auth['full_path']>=9].reset_index()['username']))].sample(frac=1, random_state=1).reset_index(drop=True)\n",
    "java_9 = java_9.groupby('username').head(9).reset_index(drop=True)\n",
    "\n",
    "cpp_9 = cpp.loc[cpp['username'].isin(np.asarray(cpp_auth.loc[cpp_auth['full_path']>=9].reset_index()['username']))].sample(frac=1, random_state=1).reset_index(drop=True)\n",
    "cpp_9 = cpp_9.groupby('username').head(9).reset_index()\n",
    "\n",
    "c_9 = c.loc[c['username'].isin(np.asarray(c_auth.loc[c_auth['full_path']>=9].reset_index()['username']))].sample(frac=1, random_state=1).reset_index(drop=True)\n",
    "c_9 = c_9.groupby('username').head(9).reset_index()\n",
    "\n",
    "python_9 = python.loc[python['username'].isin(np.asarray(python_auth.loc[python_auth['full_path']>=9].reset_index()['username']))].sample(frac=1, random_state=1).reset_index(drop=True)\n",
    "python_9 = python_9.groupby('username').head(9).reset_index()\n",
    "\n",
    "author_names_java = np.asarray(pd.unique(java_9['username']))\n",
    "author_names_c = np.asarray(pd.unique(c_9['username']))\n",
    "\n",
    "\n",
    "print('java:'+str(java_9.shape[0])+', cpp:'+str(cpp_9.shape[0])+', c:'+str(c_9.shape[0])+', python:'+str(python_9.shape[0]))\n",
    "print('java:'+str(len(pd.unique(java_9['username'])))+', cpp:'+str(len(pd.unique(cpp_9['username'])))+', c:'+str(len(pd.unique(c_9['username'])))+', python:'+str(len(pd.unique(python_9['username']))))\n"
   ]
  },
  {
   "cell_type": "code",
   "execution_count": null,
   "metadata": {
    "colab": {
     "base_uri": "https://localhost:8080/",
     "height": 314
    },
    "executionInfo": {
     "elapsed": 23154,
     "status": "ok",
     "timestamp": 1566395063620,
     "user": {
      "displayName": "Weihan Ou",
      "photoUrl": "",
      "userId": "04717068953379374964"
     },
     "user_tz": -480
    },
    "id": "FRzwcPfjHPuG",
    "outputId": "d56ffa08-e569-46ab-ae4e-fcb8d08ebeee"
   },
   "outputs": [
    {
     "name": "stdout",
     "output_type": "stream",
     "text": [
      "test  test.csv\ttrain  train.csv\n",
      "'My Drive'\n",
      "'Anyfile Notepad Files'       config.cpython-36.pyc\n",
      " cindex.cpython-36.pyc\t      enumerations.cpython-36.pyc\n",
      "'config (1).cpython-36.pyc'   __init__.cpython-36.pyc\n",
      "'config (2).cpython-36.pyc'  'path_context_reader (1).cpython-36.pyc'\n",
      "'config (3).cpython-36.pyc'  'path_context_reader (2).cpython-36.pyc'\n",
      "'config (4).cpython-36.pyc'  'path_context_reader (3).cpython-36.pyc'\n",
      "'config (5).cpython-36.pyc'  'path_context_reader (4).cpython-36.pyc'\n",
      "'config (6).cpython-36.pyc'   path_context_reader.cpython-36.pyc\n",
      "'config (7).cpython-36.pyc'   Projects\n",
      "'config (8).cpython-36.pyc'   tensorflow_model.cpython-36.pyc\n",
      "'config (9).cpython-36.pyc'\n",
      "  13867   14118  260110\n",
      "      0       0       0\n",
      "ls: cannot access 'data_GCJ/c2v/Exp1-compare_result_of_each_language-use_data_across_all_years/python/vali/': No such file or directory\n",
      "      0       0       0\n"
     ]
    }
   ],
   "source": [
    "!ls data_GCJ/c2v/Exp1-compare_result_of_each_language-use_data_across_all_years/python/\n",
    "! ls /content/drive\n",
    "! ls /content/drive/'My Drive'\n",
    "\n",
    "!ls data_GCJ/c2v/Exp1-compare_result_of_each_language-use_data_across_all_years/python/train/ | wc\n",
    "!ls data_GCJ/c2v/Exp1-compare_result_of_each_language-use_data_across_all_years/python/test/ | wc\n",
    "!ls data_GCJ/c2v/Exp1-compare_result_of_each_language-use_data_across_all_years/python/vali/ | wc"
   ]
  },
  {
   "cell_type": "code",
   "execution_count": null,
   "metadata": {
    "colab": {
     "base_uri": "https://localhost:8080/",
     "height": 52
    },
    "executionInfo": {
     "elapsed": 4143,
     "status": "ok",
     "timestamp": 1566359773669,
     "user": {
      "displayName": "Weihan Ou",
      "photoUrl": "",
      "userId": "04717068953379374964"
     },
     "user_tz": -480
    },
    "id": "IhqOChYzIiLc",
    "outputId": "c9f6ddbf-a7cc-4e3b-8d0d-a7d89cd0ccaf"
   },
   "outputs": [
    {
     "name": "stdout",
     "output_type": "stream",
     "text": [
      "data_GCJ/c2v/Exp1-compare_result_of_each_language-use_data_across_all_years/c/test.csv\n",
      "data_GCJ/c2v/Exp1-compare_result_of_each_language-use_data_across_all_years/c/train.csv\n"
     ]
    }
   ],
   "source": [
    "#!stat data_GCJ/c2v/Exp1-compare_result_of_each_language-use_data_across_all_years/java/test/*.csv \n",
    "#!stat new_code2vec/code2vec/data/exp1_java/* \n",
    "!ls data_GCJ/c2v/Exp1-compare_result_of_each_language-use_data_across_all_years/python/*.csv"
   ]
  },
  {
   "cell_type": "code",
   "execution_count": null,
   "metadata": {
    "id": "wjKqizApEJ9d"
   },
   "outputs": [],
   "source": [
    "# generate GCJ data_files\n",
    "\n",
    "global year_listgenerate\n",
    "year_list = []\n",
    "\n",
    "def save_func(content, file, f_type, year):\n",
    "  nt = 1\n",
    "  while os.path.exists('./data_GCJ/'+file+'_'+str(nt)+f_type):\n",
    "    nt += 1\n",
    "  \n",
    "  fin_file = './data_GCJ/'+file+'_'+str(nt)+f_type\n",
    "  f = open(fin_file, \"w\")\n",
    "  f.write(str(content))\n",
    "  f.close()\n",
    "  \n",
    "  if year not in year_list:\n",
    "    print(year)\n",
    "    year_list.append(year)"
   ]
  },
  {
   "cell_type": "code",
   "execution_count": null,
   "metadata": {
    "colab": {
     "base_uri": "https://localhost:8080/",
     "height": 69
    },
    "executionInfo": {
     "elapsed": 7561,
     "status": "ok",
     "timestamp": 1566633482223,
     "user": {
      "displayName": "Weihan Ou",
      "photoUrl": "",
      "userId": "04717068953379374964"
     },
     "user_tz": -480
    },
    "id": "NLtbQLuT9kEd",
    "outputId": "14da096c-38f6-4a48-c5b3-2b567532cb01"
   },
   "outputs": [
    {
     "name": "stdout",
     "output_type": "stream",
     "text": [
      "2973, 2973\n",
      "2973, 2973\n",
      "20811, 2973\n"
     ]
    }
   ],
   "source": [
    "# JAVA : train + vali + test \n",
    "java_te = java_9.groupby('username').first().reset_index()\n",
    "remain = java_9.loc[java_9['full_path'].isin(np.asarray(np.setdiff1d(java_9['full_path'], java_te['full_path']))), :]\n",
    "java_val = remain.groupby('username').first().reset_index()\n",
    "java_tr = remain.loc[remain['full_path'].isin(np.asarray(np.setdiff1d(remain['full_path'], java_val['full_path']))), :]\n",
    "\n",
    "print(str(java_val.shape[0]) +', '+ str(len(java_val.groupby('username'))))\n",
    "print(str(java_te.shape[0]) +', '+ str(len(java_te.groupby('username'))))\n",
    "print(str(java_tr.shape[0]) +', '+ str(len(java_tr.groupby('username'))))\n",
    "#java_te.to_csv('data_GCJ/c2v/Exp1-compare_result_of_each_language-use_data_across_all_years/java/test/test.csv')\n",
    "#java_tr.to_csv('data_GCJ/c2v/Exp1-compare_result_of_each_language-use_data_across_all_years/java/train.csv')\n",
    "#java_val.to_csv('data_GCJ/c2v/Exp1-compare_result_of_each_language-use_data_across_all_years/java/vali.csv')"
   ]
  },
  {
   "cell_type": "code",
   "execution_count": null,
   "metadata": {
    "id": "QYZpByYTRBi6"
   },
   "outputs": [],
   "source": [
    "from sklearn.model_selection import train_test_split\n",
    "from sklearn.model_selection import KFold # import KFold\n",
    "import numpy as np\n",
    "global i\n",
    "i = [0]\n",
    "\n",
    "print(java_tr.shape)\n",
    "java_tr.apply(lambda row: save_func(row['flines'], 'c2v/Exp1-compare_result_of_each_language-use_data_across_all_years/java/train/_'+row['username']+'_'+row['file'][:-5], '.java', row['year']), axis=1)\n",
    "\n",
    "print(java_val.shape)\n",
    "java_val.apply(lambda row: save_func(row['flines'], 'c2v/Exp1-compare_result_of_each_language-use_data_across_all_years/java/vali/_'+row['username']+'_'+row['file'][:-5], '.java', row['year']), axis=1)\n",
    "\n",
    "print(java_te.shape)\n",
    "java_te.apply(lambda row: save_func(row['flines'], 'c2v/Exp1-compare_result_of_each_language-use_data_across_all_years/java/test/_'+row['username']+'_'+row['file'][:-5], '.java', row['year']), axis=1)"
   ]
  },
  {
   "cell_type": "code",
   "execution_count": null,
   "metadata": {
    "colab": {
     "base_uri": "https://localhost:8080/",
     "height": 69
    },
    "executionInfo": {
     "elapsed": 32640,
     "status": "ok",
     "timestamp": 1566625178161,
     "user": {
      "displayName": "Weihan Ou",
      "photoUrl": "",
      "userId": "04717068953379374964"
     },
     "user_tz": -480
    },
    "id": "pqAwiX0YO5VW",
    "outputId": "301aadfb-6df4-486f-b860-94edba744d49"
   },
   "outputs": [
    {
     "name": "stdout",
     "output_type": "stream",
     "text": [
      "339, 339\n",
      "339, 339\n",
      "2373, 339\n"
     ]
    }
   ],
   "source": [
    "# C : train + vali + test \n",
    "c_te = c_9.groupby('username').first().reset_index()\n",
    "remain = c_9.loc[c_9['full_path'].isin(np.asarray(np.setdiff1d(c_9['full_path'], c_te['full_path']))), :]\n",
    "c_val = remain.groupby('username').first().reset_index()\n",
    "c_tr = remain.loc[remain['full_path'].isin(np.asarray(np.setdiff1d(remain['full_path'], c_val['full_path']))), :]\n",
    "\n",
    "print(str(c_val.shape[0]) +', '+ str(len(c_val.groupby('username'))))\n",
    "print(str(c_te.shape[0]) +', '+ str(len(c_te.groupby('username'))))\n",
    "print(str(c_tr.shape[0]) +', '+ str(len(c_tr.groupby('username'))))\n",
    "c_val.to_csv('data_GCJ/c2v/Exp1-compare_result_of_each_language-use_data_across_all_years/c/vali.csv')\n",
    "c_te.to_csv('data_GCJ/c2v/Exp1-compare_result_of_each_language-use_data_across_all_years/c/test.csv')\n",
    "c_tr.to_csv('data_GCJ/c2v/Exp1-compare_result_of_each_language-use_data_across_all_years/c/train.csv')"
   ]
  },
  {
   "cell_type": "code",
   "execution_count": null,
   "metadata": {
    "id": "ek_TKjtrPi0r"
   },
   "outputs": [],
   "source": [
    "from sklearn.model_selection import train_test_split\n",
    "from sklearn.model_selection import KFold # import KFold\n",
    "import numpy as np\n",
    "global i\n",
    "i = [0]\n",
    "\n",
    "print(c_tr.shape)\n",
    "c_tr.apply(lambda row: save_func(row['flines'], 'c2v/Exp1-compare_result_of_each_language-use_data_across_all_years/c/train/_'+row['username']+'_'+row['file'][:-5], '.c', row['year']), axis=1)\n",
    "\n",
    "print(c_val.shape)\n",
    "c_val.apply(lambda row: save_func(row['flines'], 'c2v/Exp1-compare_result_of_each_language-use_data_across_all_years/c/vali/_'+row['username']+'_'+row['file'][:-5], '.c', row['year']), axis=1)\n",
    "\n",
    "print(c_te.shape)\n",
    "c_te.apply(lambda row: save_func(row['flines'], 'c2v/Exp1-compare_result_of_each_language-use_data_across_all_years/c/test/_'+row['username']+'_'+row['file'][:-5], '.c', row['year']), axis=1)"
   ]
  },
  {
   "cell_type": "code",
   "execution_count": null,
   "metadata": {
    "id": "VWxuGrAFUaPa"
   },
   "outputs": [],
   "source": [
    "# Python : train + vali + test \n",
    "python_te = python_9.groupby('username').first().reset_index()\n",
    "remain = python_9.loc[python_9['full_path'].isin(np.asarray(np.setdiff1d(python_9['full_path'], python_te['full_path']))), :]\n",
    "python_val = remain.groupby('username').first().reset_index()\n",
    "python_tr = remain.loc[remain['full_path'].isin(np.asarray(np.setdiff1d(remain['full_path'], python_val['full_path']))), :]\n",
    "\n",
    "print(str(python_val.shape[0]) +', '+ str(len(python_val.groupby('username'))))\n",
    "print(str(python_te.shape[0]) +', '+ str(len(python_te.groupby('username'))))\n",
    "print(str(python_tr.shape[0]) +', '+ str(len(python_tr.groupby('username'))))\n",
    "python_te.to_csv('data_GCJ/c2v/Exp1-compare_result_of_each_language-use_data_across_all_years/python/test.csv')\n",
    "python_tr.to_csv('data_GCJ/c2v/Exp1-compare_result_of_each_language-use_data_across_all_years/python/train.csv')\n",
    "python_val.to_csv('data_GCJ/c2v/Exp1-compare_result_of_each_language-use_data_across_all_years/python/vali.csv')"
   ]
  },
  {
   "cell_type": "code",
   "execution_count": null,
   "metadata": {
    "id": "fPRwA-oQUcxQ"
   },
   "outputs": [],
   "source": [
    "from sklearn.model_selection import train_test_split\n",
    "from sklearn.model_selection import KFold # import KFold\n",
    "import numpy as np\n",
    "global i\n",
    "i = [0]\n",
    "\n",
    "print(python_tr.shape)\n",
    "python_tr.apply(lambda row: save_func(row['flines'], 'c2v/Exp1-compare_result_of_each_language-use_data_across_all_years/python/train/_'+row['username']+'_'+row['file'][:-5], '.py', row['year']), axis=1)\n",
    "\n",
    "print(python_val.shape)\n",
    "python_val.apply(lambda row: save_func(row['flines'], 'c2v/Exp1-compare_result_of_each_language-use_data_across_all_years/python/vali/_'+row['username']+'_'+row['file'][:-5], '.py', row['year']), axis=1)\n",
    "\n",
    "print(python_te.shape)\n",
    "python_te.apply(lambda row: save_func(row['flines'], 'c2v/Exp1-compare_result_of_each_language-use_data_across_all_years/python/test/_'+row['username']+'_'+row['file'][:-5], '.py', row['year']), axis=1)"
   ]
  },
  {
   "cell_type": "code",
   "execution_count": null,
   "metadata": {
    "id": "na4isGerSn0r"
   },
   "outputs": [],
   "source": [
    "# cpp : train + vali + test \n",
    "cpp_te = cpp_9.groupby('username').first().reset_index()\n",
    "remain = cpp_9.loc[cpp_9['full_path'].isin(np.asarray(np.setdiff1d(cpp_9['full_path'], cpp_te['full_path']))), :]\n",
    "cpp_val = remain.groupby('username').first().reset_index()\n",
    "cpp_tr = remain.loc[remain['full_path'].isin(np.asarray(np.setdiff1d(remain['full_path'], cpp_val['full_path']))), :]\n",
    "\n",
    "print(str(cpp_val.shape[0]) +', '+ str(len(cpp_val.groupby('username'))))\n",
    "print(str(cpp_te.shape[0]) +', '+ str(len(cpp_te.groupby('username'))))\n",
    "print(str(cpp_tr.shape[0]) +', '+ str(len(cpp_tr.groupby('username'))))\n",
    "#cpp_te.to_csv('data_GCJ/c2v/Exp1-compare_result_of_each_language-use_data_across_all_years/cpp/test.csv')\n",
    "#cpp_tr.to_csv('data_GCJ/c2v/Exp1-compare_result_of_each_language-use_data_across_all_years/cpp/train.csv')\n",
    "cpp_val.to_csv('data_GCJ/c2v/Exp1-compare_result_of_each_language-use_data_across_all_years/cpp/vali.csv')"
   ]
  },
  {
   "cell_type": "code",
   "execution_count": null,
   "metadata": {
    "id": "Tv8dmrT3Sp86"
   },
   "outputs": [],
   "source": [
    "from sklearn.model_selection import train_test_split\n",
    "from sklearn.model_selection import KFold # import KFold\n",
    "import numpy as np\n",
    "global i\n",
    "i = [0]\n",
    "\n",
    "print(cpp_tr.shape)\n",
    "cpp_tr.apply(lambda row: save_func(row['flines'], 'c2v/Exp1-compare_result_of_each_language-use_data_across_all_years/cpp/train/_'+row['username']+'_'+row['file'][:-5], '.cpp', row['year']), axis=1)\n",
    "\n",
    "print(cpp_val.shape)\n",
    "cpp_val.apply(lambda row: save_func(row['flines'], 'c2v/Exp1-compare_result_of_each_language-use_data_across_all_years/cpp/vali/_'+row['username']+'_'+row['file'][:-5], '.cpp', row['year']), axis=1)\n",
    "\n",
    "print(cpp_te.shape)\n",
    "cpp_te.apply(lambda row: save_func(row['flines'], 'c2v/Exp1-compare_result_of_each_language-use_data_across_all_years/cpp/test/_'+row['username']+'_'+row['file'][:-5], '.cpp', row['year']), axis=1)"
   ]
  },
  {
   "cell_type": "code",
   "execution_count": null,
   "metadata": {
    "id": "wx-iR48K6oQg"
   },
   "outputs": [],
   "source": [
    "!ls -a data_GCJ/c2v/Exp1-compare_result_of_each_language-use_data_across_all_years/cpp/train/ | wc\n",
    "!ls -a data_GCJ/c2v/Exp1-compare_result_of_each_language-use_data_across_all_years/cpp/test/ | wc\n",
    "!ls -a data_GCJ/c2v/Exp1-compare_result_of_each_language-use_data_across_all_years/cpp/vali/ | wc\n",
    "! ls /content/drive\n",
    "! ls /content/drive/'My Drive'"
   ]
  },
  {
   "cell_type": "code",
   "execution_count": null,
   "metadata": {
    "colab": {
     "base_uri": "https://localhost:8080/",
     "height": 69
    },
    "executionInfo": {
     "elapsed": 3286,
     "status": "ok",
     "timestamp": 1565857885812,
     "user": {
      "displayName": "Weihan Ou",
      "photoUrl": "",
      "userId": "04717068953379374964"
     },
     "user_tz": -480
    },
    "id": "DEkVUWzosEEo",
    "outputId": "c07d3aa6-610f-405c-f0ec-8be127a7e819"
   },
   "outputs": [
    {
     "name": "stdout",
     "output_type": "stream",
     "text": [
      "../../data_GCJ/c2v/Exp1-compare_result_of_each_language-use_data_across_all_years/java/test\n",
      "../../data_GCJ/c2v/Exp1-compare_result_of_each_language-use_data_across_all_years/java/vali\n",
      "../../data_GCJ/c2v/Exp1-compare_result_of_each_language-use_data_across_all_years/java/train\n"
     ]
    }
   ],
   "source": [
    "# preprocess GCJ data\n",
    "os.chdir('/content/drive/My Drive/Projects/1_Verification_Sourcecode_Siamese/data_gen/new_code2vec/code2vec/')\n",
    "!source preprocess.sh"
   ]
  },
  {
   "cell_type": "code",
   "execution_count": null,
   "metadata": {
    "colab": {
     "base_uri": "https://localhost:8080/",
     "height": 34
    },
    "executionInfo": {
     "elapsed": 14370,
     "status": "ok",
     "timestamp": 1565767069025,
     "user": {
      "displayName": "Weihan Ou",
      "photoUrl": "",
      "userId": "04717068953379374964"
     },
     "user_tz": -480
    },
    "id": "_hYeOAd58wFW",
    "outputId": "983644a7-29c6-4de1-9947-a9d9303ed014"
   },
   "outputs": [
    {
     "name": "stdout",
     "output_type": "stream",
     "text": [
      "java:72960, cpp:197163, c:10024, python:74983\n"
     ]
    }
   ],
   "source": [
    "# Exp2: prepare 9 file datasets -1  2011~2014\n",
    "java = ds.loc[(ds['file_type']=='.java')&(ds['year'].isin([2015, 2016, 2017]))]\n",
    "cpp = ds.loc[(ds['file_type']=='.cpp')&(ds['year'].isin([2015, 2016, 2017]))]\n",
    "c = ds.loc[(ds['file_type']=='.c')&(ds['year'].isin([2015, 2016, 2017]))]\n",
    "python= ds.loc[(ds['file_type']=='.py')&(ds['year'].isin([2015, 2016, 2017]))]\n",
    "print('java:'+str(java.shape[0])+', cpp:'+str(cpp.shape[0])+', c:'+str(c.shape[0])+', python:'+str(python.shape[0]))\n",
    "\n",
    "java_auth = java[['username', 'full_path']].groupby('username').agg({'full_path':pd.Series.nunique})\n",
    "cpp_auth = cpp[['username', 'full_path']].groupby('username').agg({'full_path':pd.Series.nunique})\n",
    "c_auth = c[['username', 'full_path']].groupby('username').agg({'full_path':pd.Series.nunique})\n",
    "python_auth = python[['username', 'full_path']].groupby('username').agg({'full_path':pd.Series.nunique})"
   ]
  },
  {
   "cell_type": "code",
   "execution_count": null,
   "metadata": {
    "colab": {
     "base_uri": "https://localhost:8080/",
     "height": 69
    },
    "executionInfo": {
     "elapsed": 1404,
     "status": "ok",
     "timestamp": 1565767090612,
     "user": {
      "displayName": "Weihan Ou",
      "photoUrl": "",
      "userId": "04717068953379374964"
     },
     "user_tz": -480
    },
    "id": "GQPdZ7qY81gg",
    "outputId": "1ac0007a-ec55-41c2-f426-dfcab0289033"
   },
   "outputs": [
    {
     "name": "stdout",
     "output_type": "stream",
     "text": [
      "java:72960, cpp:197163, c:10024, python:74983\n",
      "java:21465, cpp:66816, c:1512, python:22977\n",
      "java:2385, cpp:7424, c:168, python:2553\n"
     ]
    }
   ],
   "source": [
    "# prepare 9 file datasets -2\n",
    "import numpy as np\n",
    "print('java:'+str(java.shape[0])+', cpp:'+str(cpp.shape[0])+', c:'+str(c.shape[0])+', python:'+str(python.shape[0]))\n",
    "java_9 = java.loc[java['username'].isin(np.asarray(java_auth.loc[java_auth['full_path']>=9].reset_index()['username']))].sample(frac=1, random_state=1).reset_index(drop=True)\n",
    "java_9 = java_9.groupby('username').head(9).reset_index(drop=True)\n",
    "\n",
    "cpp_9 = cpp.loc[cpp['username'].isin(np.asarray(cpp_auth.loc[cpp_auth['full_path']>=9].reset_index()['username']))].sample(frac=1, random_state=1).reset_index(drop=True)\n",
    "cpp_9 = cpp_9.groupby('username').head(9).reset_index()\n",
    "\n",
    "c_9 = c.loc[c['username'].isin(np.asarray(c_auth.loc[c_auth['full_path']>=9].reset_index()['username']))].sample(frac=1, random_state=1).reset_index(drop=True)\n",
    "c_9 = c_9.groupby('username').head(9).reset_index()\n",
    "\n",
    "python_9 = python.loc[python['username'].isin(np.asarray(python_auth.loc[python_auth['full_path']>=9].reset_index()['username']))].sample(frac=1, random_state=1).reset_index(drop=True)\n",
    "python_9 = python_9.groupby('username').head(9).reset_index()\n",
    "\n",
    "print('java:'+str(java_9.shape[0])+', cpp:'+str(cpp_9.shape[0])+', c:'+str(c_9.shape[0])+', python:'+str(python_9.shape[0]))\n",
    "print('java:'+str(len(pd.unique(java_9['username'])))+', cpp:'+str(len(pd.unique(cpp_9['username'])))+', c:'+str(len(pd.unique(c_9['username'])))+', python:'+str(len(pd.unique(python_9['username']))))\n"
   ]
  },
  {
   "cell_type": "code",
   "execution_count": null,
   "metadata": {
    "colab": {
     "base_uri": "https://localhost:8080/",
     "height": 52
    },
    "executionInfo": {
     "elapsed": 2179,
     "status": "ok",
     "timestamp": 1565768056736,
     "user": {
      "displayName": "Weihan Ou",
      "photoUrl": "",
      "userId": "04717068953379374964"
     },
     "user_tz": -480
    },
    "id": "321tP33M9K6-",
    "outputId": "0195b37a-127a-4d3e-e582-5dcc38014c17"
   },
   "outputs": [
    {
     "name": "stdout",
     "output_type": "stream",
     "text": [
      "(5634, 10)\n",
      "626\n"
     ]
    }
   ],
   "source": [
    "# only test\n",
    "java_9_exp2 = java_9.loc[java_9['username'].isin(author_names_java)]\n",
    "print(java_9_exp2.shape)\n",
    "print(len(java_9_exp2.groupby('username')))\n",
    "java_9_exp2.to_csv('../../data_GCJ/c2v/Exp2/java/test/test.csv')"
   ]
  },
  {
   "cell_type": "code",
   "execution_count": null,
   "metadata": {
    "colab": {
     "base_uri": "https://localhost:8080/",
     "height": 52
    },
    "executionInfo": {
     "elapsed": 9195,
     "status": "ok",
     "timestamp": 1565768053830,
     "user": {
      "displayName": "Weihan Ou",
      "photoUrl": "",
      "userId": "04717068953379374964"
     },
     "user_tz": -480
    },
    "id": "VGD3Tl-mDteD",
    "outputId": "f7978959-cf1f-4dcf-bfed-34dfc9e87570"
   },
   "outputs": [
    {
     "name": "stdout",
     "output_type": "stream",
     "text": [
      "'My Drive'\n",
      "'Anyfile Notepad Files'   Projects\n"
     ]
    }
   ],
   "source": [
    "!ls ../../data_GCJ/c2v/Exp2/java/test/\n",
    "! ls /content/drive\n",
    "! ls /content/drive/'My Drive'"
   ]
  },
  {
   "cell_type": "code",
   "execution_count": null,
   "metadata": {
    "colab": {
     "base_uri": "https://localhost:8080/",
     "height": 472
    },
    "executionInfo": {
     "elapsed": 2073187,
     "status": "ok",
     "timestamp": 1565857456988,
     "user": {
      "displayName": "Weihan Ou",
      "photoUrl": "",
      "userId": "04717068953379374964"
     },
     "user_tz": -480
    },
    "id": "G--kwv3OMb76",
    "outputId": "f647ba36-10bf-42ce-a926-d605f56bd465"
   },
   "outputs": [
    {
     "name": "stdout",
     "output_type": "stream",
     "text": [
      "Extracting paths from validation set...\n",
      "Finished extracting paths from validation set\n",
      "Extracting paths from test set...\n",
      "Finished extracting paths from test set\n",
      "Extracting paths from training set...\n",
      "Finished extracting paths from training set\n",
      "Creating histograms from the training data\n",
      "File: exp1_java.test.raw.txt\n",
      "Average total contexts: 470.8395588758449\n",
      "Average final (after sampling) contexts: 136.0895588758449\n",
      "Total examples: 11244\n",
      "Empty examples: 0\n",
      "Max number of contexts per word: 34780\n",
      "File: exp1_java.val.raw.txt\n",
      "Average total contexts: 466.21375398794754\n",
      "Average final (after sampling) contexts: 136.5965083303793\n",
      "Total examples: 11284\n",
      "Empty examples: 0\n",
      "Max number of contexts per word: 35612\n",
      "File: exp1_java.train.raw.txt\n",
      "Average total contexts: 458.45072871708265\n",
      "Average final (after sampling) contexts: 134.6742478263589\n",
      "Total examples: 79935\n",
      "Empty examples: 0\n",
      "Max number of contexts per word: 21993\n",
      "Dictionaries saved to: data/exp1_java/exp1_java.dict.c2v\n"
     ]
    }
   ],
   "source": [
    "# preprocess GCJ data\n",
    "os.chdir('/content/drive/My Drive/Projects/1_Verification_Sourcecode_Siamese/data_gen/new_code2vec/code2vec/')\n",
    "!source preprocess.sh"
   ]
  },
  {
   "cell_type": "markdown",
   "metadata": {
    "id": "MzaifMQ44gH8"
   },
   "source": [
    "2. ==================== generate csv data ========================"
   ]
  },
  {
   "cell_type": "code",
   "execution_count": null,
   "metadata": {
    "id": "bhOEto-pFHRj"
   },
   "outputs": [],
   "source": [
    "# generate csv data\n",
    "os.chdir('/content/drive/My Drive/Projects/1_Verification_Sourcecode_Siamese/data_gen')\n",
    "\n",
    "# Exp1: compare_result_of_each_language-use_data_across_all_years\n",
    "java_9.to_csv('./data_GCJ/csv/Exp1-compare_result_of_each_language-use_data_across_all_years/author_with_9files/java.csv')\n",
    "cpp_9.to_csv('./data_GCJ/csv/Exp1-compare_result_of_each_language-use_data_across_all_years/author_with_9files/cpp.csv')\n",
    "c_9.to_csv('./data_GCJ/csv/Exp1-compare_result_of_each_language-use_data_across_all_years/author_with_9files/c.csv')\n",
    "python_9.to_csv('./data_GCJ/csv/Exp1-compare_result_of_each_language-use_data_across_all_years/author_with_9files/python.csv')\n",
    "\n",
    "# Exp2: compare_result_of_each_year-choose_some_languages\n",
    "for i in range(2008, 2018):\n",
    "  java_9.loc[java_9['year']==i].to_csv('./data_GCJ/csv/Exp2-compare_result_of_each_year-choose_some_languages/author_with_9files/java'+str(i)+'.csv')\n",
    "  cpp_9.loc[cpp_9['year']==i].to_csv('./data_GCJ/csv/Exp2-compare_result_of_each_year-choose_some_languages/author_with_9files/cpp'+str(i)+'.csv')\n",
    "  c_9.loc[c_9['year']==i].to_csv('./data_GCJ/csv/Exp2-compare_result_of_each_year-choose_some_languages/author_with_9files/c'+str(i)+'.csv')\n",
    "  python_9.loc[python_9['year']==i].to_csv('./data_GCJ/csv/Exp2-compare_result_of_each_year-choose_some_languages/author_with_9files/python'+str(i)+'.csv')"
   ]
  },
  {
   "cell_type": "code",
   "execution_count": null,
   "metadata": {
    "colab": {
     "base_uri": "https://localhost:8080/",
     "height": 122
    },
    "executionInfo": {
     "elapsed": 4930,
     "status": "ok",
     "timestamp": 1565329674072,
     "user": {
      "displayName": "Weihan Ou",
      "photoUrl": "",
      "userId": "04717068953379374964"
     },
     "user_tz": -480
    },
    "id": "-X61XUgeivFe",
    "outputId": "8bfc68e3-561b-4182-b851-1ea0459174ca"
   },
   "outputs": [
    {
     "name": "stdout",
     "output_type": "stream",
     "text": [
      "50\n",
      "100\n",
      "200\n",
      "300\n",
      "400\n",
      "500\n"
     ]
    }
   ],
   "source": [
    "# Exp3: compare_result_of_each_num_of_authors-across_all_years_choose_one_or_some_languages\n",
    "for i in [50, 100, 200, 300, 400, 500]:\n",
    "  print(i)\n",
    "  \n",
    "  np.random.seed(1)\n",
    "  usernames = np.random.choice(java_9.username.unique(), i, replace = False)\n",
    "  java_9.loc[java_9['username'].isin(usernames)].to_csv('./data_GCJ/csv/Exp3-compare_result_of_each_num_of_authors-across_all_years_choose_one_or_some_languages/author_with_9files/java'+str(i)+'.csv')\n",
    "  \n",
    "  np.random.seed(1)\n",
    "  usernames = np.random.choice(cpp_9.username.unique(), i, replace = False)\n",
    "  cpp_9.loc[cpp_9['username'].isin(usernames)].to_csv('./data_GCJ/csv/Exp3-compare_result_of_each_num_of_authors-across_all_years_choose_one_or_some_languages/author_with_9files/cpp'+str(i)+'.csv')\n",
    "    \n",
    "  np.random.seed(1)\n",
    "  usernames = np.random.choice(c_9.username.unique(), i, replace = False)\n",
    "  c_9.loc[c_9['username'].isin(usernames)].to_csv('./data_GCJ/csv/Exp3-compare_result_of_each_num_of_authors-across_all_years_choose_one_or_some_languages/author_with_9files/c'+str(i)+'.csv')\n",
    "  \n",
    "  np.random.seed(1)\n",
    "  usernames = np.random.choice(python_9.username.unique(), i, replace = False)\n",
    "  python_9.loc[python_9['username'].isin(usernames)].to_csv('./data_GCJ/csv/Exp3-compare_result_of_each_num_of_authors-across_all_years_choose_one_or_some_languages/author_with_9files/python'+str(i)+'.csv')\n"
   ]
  },
  {
   "cell_type": "code",
   "execution_count": null,
   "metadata": {
    "id": "rAfMsSTBL1wy"
   },
   "outputs": [],
   "source": [
    "# check csv data\n",
    "for i in range(2008, 2018):\n",
    "  java = pd.read_csv('./data_GCJ/csv/Exp2-compare_result_of_each_year-choose_some_languages/author_with_9files/java'+str(i)+'.csv')\n",
    "  cpp = pd.read_csv('./data_GCJ/csv/Exp2-compare_result_of_each_year-choose_some_languages/author_with_9files/cpp'+str(i)+'.csv')\n",
    "  c = pd.read_csv('./data_GCJ/csv/Exp2-compare_result_of_each_year-choose_some_languages/author_with_9files/c'+str(i)+'.csv')\n",
    "  python = pd.read_csv('./data_GCJ/csv/Exp2-compare_result_of_each_year-choose_some_languages/author_with_9files/python'+str(i)+'.csv')\n",
    "  print('-----'+str(i)+'-----')  \n",
    "  print('java:'+str(java.shape[0])+', cpp:'+str(cpp.shape[0])+', c:'+str(c.shape[0])+', python:'+str(python.shape[0]))\n",
    "  #print(len(pd.unique(java['username'])))\n",
    "  "
   ]
  }
 ],
 "metadata": {
  "accelerator": "GPU",
  "colab": {
   "collapsed_sections": [],
   "name": "data_gen.ipython",
   "provenance": [
    {
     "file_id": "1_77hTk_kVWGP04HpgnX-yzHnjA0lo6fZ",
     "timestamp": 1564574239700
    }
   ]
  },
  "kernelspec": {
   "display_name": "Python 3",
   "language": "python",
   "name": "python3"
  },
  "language_info": {
   "codemirror_mode": {
    "name": "ipython",
    "version": 3
   },
   "file_extension": ".py",
   "mimetype": "text/x-python",
   "name": "python",
   "nbconvert_exporter": "python",
   "pygments_lexer": "ipython3",
   "version": "3.7.8"
  }
 },
 "nbformat": 4,
 "nbformat_minor": 4
}
