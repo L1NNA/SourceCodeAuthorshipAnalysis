{
 "cells": [
  {
   "cell_type": "code",
   "execution_count": 147,
   "metadata": {},
   "outputs": [
    {
     "name": "stderr",
     "output_type": "stream",
     "text": [
      "  0%|          | 10/29018 [00:00<05:03, 95.63it/s]"
     ]
    },
    {
     "name": "stdout",
     "output_type": "stream",
     "text": [
      "(29018, 10)\n"
     ]
    },
    {
     "name": "stderr",
     "output_type": "stream",
     "text": [
      "100%|██████████| 29018/29018 [03:38<00:00, 132.80it/s]\n",
      "/opt/conda/lib/python3.7/site-packages/ipykernel_launcher.py:102: SettingWithCopyWarning: \n",
      "A value is trying to be set on a copy of a slice from a DataFrame.\n",
      "Try using .loc[row_indexer,col_indexer] = value instead\n",
      "\n",
      "See the caveats in the documentation: https://pandas.pydata.org/pandas-docs/stable/user_guide/indexing.html#returning-a-view-versus-a-copy\n"
     ]
    }
   ],
   "source": [
    "from tqdm import tqdm\n",
    "from transformers import RobertaTokenizer, RobertaConfig, RobertaModel\n",
    "import os\n",
    "import pandas as pd\n",
    "import json\n",
    "import sys\n",
    "tqdm.pandas()\n",
    "\n",
    "\n",
    "def rm_cmts(in_, language):\n",
    "    if language == 'java':\n",
    "        try:\n",
    "            strings = in_.split('\\n')\n",
    "            strings = [i.strip() for i in strings]\n",
    "            return_text = ''\n",
    "\n",
    "            multiple = False\n",
    "            for i in strings:\n",
    "                comment = False\n",
    "                if i.startswith('/*'):\n",
    "                    multiple = True\n",
    "                    comment = True\n",
    "                if i.endswith('*/'):\n",
    "                    multiple = False\n",
    "                    comment = True\n",
    "                if multiple == True and i.startswith('*'):\n",
    "                    comment = True\n",
    "                if i.startswith('//'):\n",
    "                    comment = True   \n",
    "                if comment == False:\n",
    "                    return_text += i+'\\n'\n",
    "            return return_text\n",
    "        except:\n",
    "            return ' '\n",
    "    elif language == 'py':\n",
    "        try:\n",
    "            strings = in_.split('\\n')\n",
    "            strings = [i.rstrip() for i in strings]\n",
    "            return_text = ''\n",
    "\n",
    "            multiple = False\n",
    "            for i in strings:\n",
    "                comment = False\n",
    "                if i.startswith('\\'\\'\\''):\n",
    "                    multiple = True\n",
    "                    comment = True\n",
    "                if i.endswith('\\'\\'\\''):\n",
    "                    multiple = False\n",
    "                    comment = True\n",
    "                if multiple == True:\n",
    "                    comment = True\n",
    "                if i.startswith('#'):\n",
    "                    comment = True   \n",
    "                if comment == False:\n",
    "                    return_text += i+'\\n'\n",
    "            return return_text\n",
    "        except:\n",
    "            return ' '\n",
    "\n",
    "        \n",
    "def rm_parse(in_):\n",
    "    return_text = in_\n",
    "    try:\n",
    "        parse(in_)\n",
    "    except:\n",
    "        return_text = ' '\n",
    "        \n",
    "    return return_text\n",
    "\n",
    "\n",
    "\n",
    "def clean(text, language):\n",
    "    text_cmt = rm_cmts(text, language)\n",
    "    text_cmt_ast = rm_parse(text_cmt)\n",
    "    text_cmt_ast_spctkn = text_cmt_ast.replace('<img', '').replace('https:', '')\n",
    "    return text_cmt_ast_spctkn\n",
    "\n",
    "\n",
    "\n",
    "year = '2017'\n",
    "language = 'java'\n",
    "\n",
    "if language == 'java':\n",
    "    from javalang.parse import parse\n",
    "elif language == 'py':\n",
    "    from ast import parse\n",
    "\n",
    "json_path = '/home/jovyan/Source_Code_Veri/data/GCJ/MS_C2T/gcj'+year+'_'+language\n",
    "ds_all = pd.read_csv('/home/jovyan/Source_Code_Veri/data/GCJ/gcj'+year+'.csv')\n",
    "\n",
    "ds_all['language'] = ds_all.apply(lambda row: os.path.splitext(row['file'])[1][1:] , axis=1)\n",
    "ds = ds_all.loc[ds_all.language==language]\n",
    "print(ds.shape)\n",
    "if language == 'py':\n",
    "    for i in range(ds.shape[0]):\n",
    "        a = ds.flines.iloc[i]\n",
    "        try:\n",
    "            ds.flines.iloc[i] = a.replace('\\n ', '\\n')\n",
    "        except:\n",
    "            pass\n",
    "\n",
    "ds['flines_clean'] = ds.flines.progress_apply(lambda x: clean(x, language)) \n",
    "\n",
    "# ds_codebert = pd.DataFrame(columns=['repo', 'path', 'func_name', 'original_string', 'language', 'code', 'code_tokens', 'docstring', 'docstring_tokens'])\n",
    "# ds_codebert['repo'] = ds['username']\n",
    "# ds_codebert['path'] = ds['full_path']\n",
    "# ds_codebert['func_name'] = ds['task']\n",
    "# ds_codebert['language'] = language\n",
    "# ds_codebert['code'] = ds['flines_clean']\n",
    "# ds_codebert['code_tokens'] = ds['flines_clean'].apply(lambda row: row.split())\n",
    "# ds_codebert['original_string'] = ' '\n",
    "# ds_codebert['docstring'] = ' '\n",
    "# ds_codebert['docstring_tokens'] = ' '\n",
    "\n",
    "# ds_codebert['sha'] = ' '\n",
    "# ds_codebert['url'] = ' '\n",
    "# ds_codebert['partition'] = ' '\n",
    "\n",
    "# dict_codebert = ds_codebert.to_dict('records')\n"
   ]
  },
  {
   "cell_type": "code",
   "execution_count": 155,
   "metadata": {},
   "outputs": [],
   "source": [
    "ds_all = pd.read_csv('/home/jovyan/Source_Code_Veri/data/GCJ/gcj'+year+'.csv')\n",
    "ds_all['language'] = ds_all.apply(lambda row: os.path.splitext(row['file'])[1][1:] , axis=1)"
   ]
  },
  {
   "cell_type": "code",
   "execution_count": null,
   "metadata": {},
   "outputs": [],
   "source": [
    "ds = ds_all.loc[ds_all.language==language]"
   ]
  },
  {
   "cell_type": "code",
   "execution_count": 148,
   "metadata": {},
   "outputs": [
    {
     "name": "stdout",
     "output_type": "stream",
     "text": [
      "(27924, 11)\n"
     ]
    }
   ],
   "source": [
    "aa = ds.loc[ds['flines_clean']!=' ']\n",
    "print(aa.shape)"
   ]
  },
  {
   "cell_type": "code",
   "execution_count": 156,
   "metadata": {},
   "outputs": [],
   "source": [
    "df = pd.read_csv('/home/jovyan/Source_Code_Veri/data/GCJ/gcj2017.csv')"
   ]
  },
  {
   "cell_type": "code",
   "execution_count": 157,
   "metadata": {},
   "outputs": [],
   "source": [
    "df['language'] = df.apply(lambda row: os.path.splitext(row['file'])[1][1:] , axis=1)\n",
    "\n",
    "java = df.loc[ds_all.language=='java']\n",
    "py = df.loc[ds_all.language=='py']"
   ]
  },
  {
   "cell_type": "code",
   "execution_count": 159,
   "metadata": {},
   "outputs": [
    {
     "data": {
      "text/plain": [
       "(36057, 10)"
      ]
     },
     "execution_count": 159,
     "metadata": {},
     "output_type": "execute_result"
    }
   ],
   "source": [
    "py.shape"
   ]
  },
  {
   "cell_type": "code",
   "execution_count": 143,
   "metadata": {},
   "outputs": [],
   "source": [
    "strings = ds.flines.iloc[13].split('\\n')\n",
    "strings = [i.rstrip() for i in strings]\n",
    "return_text = ' '\n",
    "\n",
    "multiple = False\n",
    "for i in strings:\n",
    "    comment = False\n",
    "    if i.startswith('\\'\\'\\''):\n",
    "        multiple = True\n",
    "        comment = True\n",
    "    if i.endswith('\\'\\'\\''):\n",
    "        multiple = False\n",
    "        comment = True\n",
    "    if multiple == True:\n",
    "        comment = True\n",
    "    if i.startswith('#'):\n",
    "        comment = True   \n",
    "    if comment == False:\n",
    "        return_text += i+'\\n'"
   ]
  },
  {
   "cell_type": "code",
   "execution_count": 145,
   "metadata": {},
   "outputs": [
    {
     "data": {
      "text/plain": [
       "' from copy import deepcopy\\nfrom collections import namedtuple\\nimport functools\\nimport numpy as np\\nimport common\\nfrom common import read_input, save_cases\\n\\ndef run(f):\\n\\ttxt = open(f).read()\\n\\tf2 = f + \\'.out\\'\\n\\toutputs = [calculate(recipe, all_packages)\\n\\t\\t\\t   for recipe, all_packages in parse_input(txt)]\\n\\tsave_cases(f2, outputs)\\n\\ndef parse_input(txt):\\n\\tlines = iter([x for x in txt.split(\\'\\\\n\\') if x])\\n\\tT = int(lines.next())\\n\\tinputs = []\\n\\tfor line in lines:\\n\\t\\tN, P = line.split()\\n\\t\\tN, P = int(N), int(P)\\n\\t\\trecipe = [int(x) for x in lines.next().split()]\\n\\n\\t\\tarr = []\\n\\t\\tfor _ in range(N):\\n\\t\\t\\tline = lines.next()\\n\\t\\t\\tarr += [sorted(int(x) for x in line.split())]\\n\\t\\tinputs += [(recipe, arr)]\\n\\treturn inputs\\n\\n\\ndef agree(recipe, packages):\\n\\tassert len(recipe) == len(packages)\\n\\tbounds = 0., float(\"inf\")\\n\\thighs = [np.floor((p / 0.9) / r) for r, p in zip(recipe, packages)]\\n\\tlows  = [np.ceil((p / 1.1) / r)  for r, p in zip(recipe, packages)]\\n\\tif (all(x <= min(highs) for x in lows) and\\n\\t\\tall(x >= max(lows)  for x in highs)):\\n\\t\\treturn True\\n\\t# the low ones need to be killed off\\n\\treturn [i for i, x in enumerate(highs) if x < max(lows)]\\n\\n\\ndef calculate(recipe, all_packages):\\n\\tdef pop_front(xs):\\n\\t\\txs.reverse(); xs.pop(); xs.reverse()\\n\\tcount = 0\\n\\twhile all(all_packages):\\n\\t    packages = [p[0] for p in all_packages]\\n\\t    result = agree(recipe, packages)\\n\\t    if result == True:\\n\\t        count += 1\\n\\t        [pop_front(p) for p in all_packages]\\n\\t    else:\\n\\t        for i in result:\\n\\t            pop_front(all_packages[i])\\n\\treturn count\\n\\n\\n\\nexample_input = \\\\\\n\"\"\"6\\n2 1\\n500 300\\n900\\n660\\n2 1\\n500 300\\n1500\\n809\\n2 2\\n50 100\\n450 449\\n1100 1101\\n2 1\\n500 300\\n300\\n500\\n1 8\\n10\\n11 13 17 11 16 14 12 18\\n3 3\\n70 80 90\\n1260 1500 700\\n800 1440 1600\\n1700 1620 900\\n\"\"\"\\n\\nexample_output = \\\\\\n\"\"\"Case #1: 1\\nCase #2: 0\\nCase #3: 1\\nCase #4: 0\\nCase #5: 3\\nCase #6: 3\\n\"\"\"\\n\\n\\n'"
      ]
     },
     "execution_count": 145,
     "metadata": {},
     "output_type": "execute_result"
    }
   ],
   "source": [
    "return_text"
   ]
  }
 ],
 "metadata": {
  "kernelspec": {
   "display_name": "Python 3",
   "language": "python",
   "name": "python3"
  },
  "language_info": {
   "codemirror_mode": {
    "name": "ipython",
    "version": 3
   },
   "file_extension": ".py",
   "mimetype": "text/x-python",
   "name": "python",
   "nbconvert_exporter": "python",
   "pygments_lexer": "ipython3",
   "version": "3.7.8"
  }
 },
 "nbformat": 4,
 "nbformat_minor": 4
}
